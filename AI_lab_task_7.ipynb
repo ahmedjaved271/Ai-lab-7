{
  "nbformat": 4,
  "nbformat_minor": 0,
  "metadata": {
    "colab": {
      "provenance": []
    },
    "kernelspec": {
      "name": "python3",
      "display_name": "Python 3"
    },
    "language_info": {
      "name": "python"
    }
  },
  "cells": [
    {
      "cell_type": "code",
      "execution_count": 2,
      "metadata": {
        "colab": {
          "base_uri": "https://localhost:8080/"
        },
        "id": "KRqvh3b4x5KS",
        "outputId": "78631a93-df24-4776-b586-f6b4492e572c"
      },
      "outputs": [
        {
          "output_type": "stream",
          "name": "stdout",
          "text": [
            "Path found: [(0, 0), (1, 0), (2, 0), (3, 0), (4, 0), (4, 1), (4, 2), (4, 3), (4, 4)]\n"
          ]
        }
      ],
      "source": [
        "# A* Algorithm\n",
        "class Node:\n",
        "    def __init__(self, x, y, parent=None):\n",
        "        self.x = x\n",
        "        self.y = y\n",
        "        self.parent = parent\n",
        "        self.g = 0\n",
        "        self.h = 0\n",
        "        self.f = 0\n",
        "\n",
        "    def __eq__(self, other):\n",
        "        return self.x == other.x and self.y == other.y\n",
        "\n",
        "\n",
        "def heuristic(node1, node2):\n",
        "    return abs(node1.x - node2.x) + abs(node1.y - node2.y)\n",
        "\n",
        "\n",
        "def astar(grid, start, end):\n",
        "    start_node = Node(start[0], start[1])\n",
        "    end_node = Node(end[0], end[1])\n",
        "\n",
        "    open_list = [start_node]\n",
        "    closed_list = []\n",
        "\n",
        "    while open_list:\n",
        "        current_node = min(open_list, key=lambda node: node.f)\n",
        "        open_list.remove(current_node)\n",
        "        closed_list.append(current_node)\n",
        "\n",
        "        if current_node == end_node:\n",
        "            path = []\n",
        "            while current_node:\n",
        "                path.append((current_node.x, current_node.y))\n",
        "                current_node = current_node.parent\n",
        "            return path[::-1]\n",
        "\n",
        "        neighbors = []\n",
        "        for dx, dy in [(-1, 0), (1, 0), (0, -1), (0, 1)]:\n",
        "            x, y = current_node.x + dx, current_node.y + dy\n",
        "            if 0 <= x < len(grid) and 0 <= y < len(grid[0]) and grid[x][y] == 0:\n",
        "                neighbors.append(Node(x, y, current_node))\n",
        "\n",
        "        for neighbor in neighbors:\n",
        "            if neighbor in closed_list:\n",
        "                continue\n",
        "\n",
        "            neighbor.g = current_node.g + 1\n",
        "            neighbor.h = heuristic(neighbor, end_node)\n",
        "            neighbor.f = neighbor.g + neighbor.h\n",
        "\n",
        "            if any(open_node for open_node in open_list if neighbor == open_node and neighbor.g > open_node.g):\n",
        "                continue\n",
        "\n",
        "            open_list.append(neighbor)\n",
        "\n",
        "    return None\n",
        "\n",
        "grid = [\n",
        "    [0, 1, 0, 0, 0],\n",
        "    [0, 1, 0, 1, 0],\n",
        "    [0, 0, 0, 1, 0],\n",
        "    [0, 1, 1, 1, 0],\n",
        "    [0, 0, 0, 0, 0]\n",
        "]\n",
        "\n",
        "start = (0, 0)\n",
        "end = (4, 4)\n",
        "\n",
        "path = astar(grid, start, end)\n",
        "if path:\n",
        "    print(\"Path found:\", path)\n",
        "else:\n",
        "    print(\"No path found.\")\n"
      ]
    },
    {
      "cell_type": "code",
      "source": [],
      "metadata": {
        "id": "-QwYPW3_4qPW"
      },
      "execution_count": null,
      "outputs": []
    }
  ]
}